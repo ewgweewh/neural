{
 "cells": [
  {
   "cell_type": "markdown",
   "metadata": {},
   "source": [
    "***Deep Autoencoder***"
   ]
  },
  {
   "cell_type": "code",
   "execution_count": null,
   "metadata": {},
   "outputs": [],
   "source": [
    "import time\n",
    "import numpy as np\n",
    "import matplotlib.pyplot as plt\n",
    "%matplotlib inline\n",
    "from keras.datasets import mnist\n",
    "from keras.models import Model, Sequential, load_model\n",
    "from keras.layers import Input, Dense\n",
    "from livelossplot import PlotLossesKeras"
   ]
  },
  {
   "cell_type": "markdown",
   "metadata": {},
   "source": [
    "**Import dataset** (MNIST)"
   ]
  },
  {
   "cell_type": "code",
   "execution_count": null,
   "metadata": {
    "scrolled": true
   },
   "outputs": [],
   "source": [
    "(X_train, _), (X_test, _) = mnist.load_data()\n",
    "\n",
    "max_value = float(X_train.max())\n",
    "X_train = X_train.astype(\"float32\")/max_value\n",
    "X_test = X_test.astype(\"float32\")/max_value\n",
    "\n",
    "# Reshape 28x28 images into vectors of length 784\n",
    "X_train = X_train.reshape((len(X_train), np.prod(X_train.shape[1:])))\n",
    "X_test = X_test.reshape((len(X_test), np.prod(X_test.shape[1:])))\n",
    "\n",
    "print(X_train.shape)\n",
    "print(X_test.shape)"
   ]
  },
  {
   "cell_type": "code",
   "execution_count": null,
   "metadata": {},
   "outputs": [],
   "source": [
    "input_dim = 28*28 # 784\n",
    "encoding_dim = 6*6"
   ]
  },
  {
   "cell_type": "markdown",
   "metadata": {},
   "source": [
    "**Build model**"
   ]
  },
  {
   "cell_type": "code",
   "execution_count": null,
   "metadata": {},
   "outputs": [],
   "source": [
    "autoencoder = Sequential()\n",
    "\n",
    "# Encoder layers\n",
    "autoencoder.add(Dense(4*encoding_dim, input_shape = (input_dim,), activation = \"relu\"))\n",
    "autoencoder.add(Dense(2*encoding_dim, activation = \"relu\"))\n",
    "autoencoder.add(Dense(1*encoding_dim, activation = \"relu\"))\n",
    "\n",
    "# Decoder layers\n",
    "autoencoder.add(Dense(2*encoding_dim, activation = \"relu\"))\n",
    "autoencoder.add(Dense(4*encoding_dim, activation = \"relu\"))\n",
    "autoencoder.add(Dense(input_dim, activation = \"sigmoid\"))\n",
    "\n",
    "autoencoder.summary()"
   ]
  },
  {
   "cell_type": "markdown",
   "metadata": {},
   "source": [
    "We can extract the **encoder** model from the autoencoder. The encoder model consists of the first 3 layers in the autoencoder, so let’s extract them to visualize the encoded images."
   ]
  },
  {
   "cell_type": "code",
   "execution_count": null,
   "metadata": {},
   "outputs": [],
   "source": [
    "input_img = Input(shape = (input_dim,))\n",
    "\n",
    "encoder_layer1 = autoencoder.layers[0]\n",
    "encoder_layer2 = autoencoder.layers[1]\n",
    "encoder_layer3 = autoencoder.layers[2]\n",
    "\n",
    "encoder = Model(input_img, encoder_layer3(encoder_layer2(encoder_layer1(input_img))))\n",
    "\n",
    "encoder.summary()"
   ]
  },
  {
   "cell_type": "markdown",
   "metadata": {},
   "source": [
    "**Train model**"
   ]
  },
  {
   "cell_type": "code",
   "execution_count": null,
   "metadata": {
    "scrolled": false
   },
   "outputs": [],
   "source": [
    "autoencoder.compile(\n",
    "    optimizer = \"adam\",\n",
    "    loss = \"binary_crossentropy\")\n",
    "\n",
    "start_time = time.time()\n",
    "\n",
    "epochs = 10\n",
    "\n",
    "autoencoder.fit(\n",
    "    X_train, X_train,\n",
    "    epochs = epochs,\n",
    "    batch_size = 256,\n",
    "    validation_data = (X_test, X_test),\n",
    "    callbacks = [PlotLossesKeras()])\n",
    "\n",
    "end_time = time.time() - start_time\n",
    "print(f\"Training time: {end_time} seconds for {epochs} epochs\")\n",
    "print(f\"Training time: {end_time/epochs} per epoch on average\")"
   ]
  },
  {
   "cell_type": "markdown",
   "metadata": {},
   "source": [
    "**Save model**"
   ]
  },
  {
   "cell_type": "code",
   "execution_count": null,
   "metadata": {},
   "outputs": [],
   "source": [
    "autoencoder.save(\"Models/deep_autoencoder.model\")\n",
    "encoder.save(\"Models/deep_autoencoder_encoder.model\")"
   ]
  },
  {
   "cell_type": "markdown",
   "metadata": {},
   "source": [
    "**Load model**"
   ]
  },
  {
   "cell_type": "code",
   "execution_count": null,
   "metadata": {},
   "outputs": [],
   "source": [
    "autoencoder = load_model(\"Models/deep_autoencoder.model\")\n",
    "encoder = load_model(\"Models/deep_autoencoder_encoder.model\")"
   ]
  },
  {
   "cell_type": "markdown",
   "metadata": {},
   "source": [
    "**Display output**"
   ]
  },
  {
   "cell_type": "code",
   "execution_count": null,
   "metadata": {},
   "outputs": [],
   "source": [
    "n = 10\n",
    "np.random.seed(12)\n",
    "\n",
    "encoded_imgs = encoder.predict(X_test)\n",
    "decoded_imgs = autoencoder.predict(X_test)\n",
    "\n",
    "plt.figure(figsize = (18, 4))\n",
    "\n",
    "for i in range(n):\n",
    "    j = np.random.randint(0, len(X_test))\n",
    "    # original image\n",
    "    ax = plt.subplot(3, n, i+1)\n",
    "    ax.set_title(f\"[{j}]\")\n",
    "    plt.imshow(X_test[j].reshape(28, 28))\n",
    "    ax.get_xaxis().set_visible(False)\n",
    "    ax.get_yaxis().set_visible(False)\n",
    "    # encoded image\n",
    "    ax = plt.subplot(3, n, i+1+n)\n",
    "    plt.imshow(encoded_imgs[j].reshape(6, 6))\n",
    "    ax.get_xaxis().set_visible(False)\n",
    "    ax.get_yaxis().set_visible(False)\n",
    "    # reconstructed image\n",
    "    ax = plt.subplot(3, n, i+1+2*n)\n",
    "    plt.imshow(decoded_imgs[j].reshape(28, 28))\n",
    "    ax.get_xaxis().set_visible(False)\n",
    "    ax.get_yaxis().set_visible(False)\n",
    "\n",
    "plt.show()"
   ]
  },
  {
   "cell_type": "code",
   "execution_count": null,
   "metadata": {},
   "outputs": [],
   "source": [
    "n = 8\n",
    "seed = lambda k: int(99/(2*k+1)*13) # arbitrary mapping from k to some seed\n",
    "\n",
    "# k rows of images\n",
    "for k in range(4):\n",
    "    np.random.seed(seed(k))\n",
    "    plt.figure(figsize = (18, 4))\n",
    "    for i in range(n):\n",
    "        j = np.random.randint(0, len(X_test))\n",
    "        ax = plt.subplot(1, n, i+1)\n",
    "        plt.imshow(encoded_imgs[j].reshape(6, 6))\n",
    "        ax.set_title(f\"[{j}]\")\n",
    "        ax.get_xaxis().set_visible(False)\n",
    "        ax.get_yaxis().set_visible(False)\n",
    "    plt.show()"
   ]
  }
 ],
 "metadata": {
  "kernelspec": {
   "display_name": "Python 3",
   "language": "python",
   "name": "python3"
  },
  "language_info": {
   "codemirror_mode": {
    "name": "ipython",
    "version": 3
   },
   "file_extension": ".py",
   "mimetype": "text/x-python",
   "name": "python",
   "nbconvert_exporter": "python",
   "pygments_lexer": "ipython3",
   "version": "3.6.4"
  }
 },
 "nbformat": 4,
 "nbformat_minor": 2
}
